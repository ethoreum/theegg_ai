{
 "cells": [
  {
   "cell_type": "markdown",
   "metadata": {},
   "source": [
    "# Algoritmo del lechero\n",
    "\n",
    "En esta tarea debes desarrollar (en el lenguaje o lenguajes de programación que tú quieras) el siguiente algoritmo:\n",
    "\n",
    "Usted es un original empresario de Azkoitia, y tiene la brillante idea de abrir una tienda de la leche en la Plaza del pueblo. Como es una persona muy prudente, desea que la leche que venderá sea perfectamente natural y fresca, y por esa razón, va a traer unas sanísimas vacas de desde Tolosa. Dispone de un camión con un cierto límite de peso, y un grupo de vacas disponibles para la venta. Cada vaca puede tener un peso distinto, y producir una cantidad diferente de leche al día. Debes elegir qué vacas comprar y llevar en su camión, de modo que pueda maximizar la producción de leche, observando el límite de peso del camión.\n",
    "\n",
    "Para este propósito tienes que definir las siguientes entradas:\n",
    "\n",
    "**Entrada:** Número total de vacas en la zona de Tolosa que están a la venta.\n",
    "\n",
    "**Entrada:** Peso total que el camión puede llevar.\n",
    "\n",
    "**Entrada:** Lista de pesos de las vacas.\n",
    "\n",
    "**Entrada:** Lista de la producción de leche por vaca, en litros por día.\n",
    "\n",
    "El algoritmo que programes tiene que calcular la siguiente salida:\n",
    "\n",
    "**Salida:** Cantidad máxima de producción de leche se puede obtener."
   ]
  },
  {
   "cell_type": "markdown",
   "metadata": {},
   "source": [
    "## Entrada de datos\n",
    "\n",
    "La entrada de datos se realizara através de un fichero CSV que contendra la información de las vacas disponibles. Es un fichero que se compone de 3 columnas:\n",
    "\n",
    "* **Name**: Nombre de la vaca.\n",
    "* **Weight**: Peso de la vaca en kilos.\n",
    "* **Production**: Producción diaria de leche de la vaca en litros\n",
    "\n",
    "Por ejemplo:\n",
    "\n",
    "| Name      | Weight | Production |\n",
    "|-----------|--------|------------|\n",
    "| Jacinta   | 340    | 40         |\n",
    "| Bernarda  | 400    | 52         |\n",
    "| Margarita | 300    | 33         |\n",
    "| Flora     | 250    | 32         |\n",
    "| Miguelita | 320    | 60         |\n",
    "| Fulgencia | 290    | 27         |\n",
    "| Miranda   | 275    | 43         |\n",
    "\n",
    "La lectura de los datos se realizará usando la función ``read_csv`` de ``pandas`` y estos se almacenarán en un ``DataFrame`` (se trata de una estructura bidimensional tipo tabla)."
   ]
  },
  {
   "cell_type": "markdown",
   "metadata": {},
   "source": [
    "## Propuestas de resolución\n",
    "\n",
    "### Fuerza bruta (tarea_22_brute_force.py)\n",
    "\n",
    "Procederemos del siguiente modo:\n",
    "\n",
    "1. Calcularemos todas las combinaciones posibles de vacas.\n",
    "2. Hallaremos aquellas combinaciones que cumplen la condición de que el peso total no exceda el peso máximo. \n",
    "3. De todas estas posibilidades que cumplan con el punto 2, nos quedaremos con aquella que maximice la producción de leche.\n",
    "\n",
    "Codificaremos las combinaciones como lista binaria. Por ejemplo, sean 3 las vacas totales. De este modo el número total de combinaciones posibles es:\n",
    "\n",
    "- [0,0,0]\n",
    "- [0,0,1]\n",
    "- [0,1,0]\n",
    "- [0,1,1]\n",
    "- [1,0,0]\n",
    "- [1,0,0]\n",
    "- [1,1,0]\n",
    "- [1,1,1]\n",
    "\n",
    "Donde ``1`` significa que la vaca asociada a esa posición en la lista es una vaca que cargamos al camión y un ``0`` que prescindimos de su compra.\n",
    "\n",
    "El número total de combinaciones posibles es igual al numero binario de 3 bits representables más 1, es decir, $2^3$. \n",
    "\n",
    "En general si tenemos $n$ vacas el número total de combinaciones posibles es:\n",
    "$$\n",
    "2^n\n",
    "$$\n",
    "\n",
    "Es decir, el número total de combinaciones crece de manera exponencial con $n$. Esto quiere decir, que una aproximación por fuerza bruta puede no ser una buena idea cuando el número $n$ es muy grande.\n",
    "\n",
    "\n",
    "#### Ejecución del programa y dependencias\n",
    "\n",
    "El código se ejecuta pasando el fichero al intérprete de Python:\n",
    "```\n",
    "python tarea_22_brute_force.py\n",
    "```\n",
    "\n",
    "Y las dependencias son las siguientes:\n",
    "\n",
    "* Python 3\n",
    "* ``pandas``\n"
   ]
  },
  {
   "cell_type": "markdown",
   "metadata": {},
   "source": [
    "#### El código\n",
    "\n",
    "Vamos a destripar el código para ver cómo funciona.\n",
    "\n",
    "En primer lugar vamos a cargar los módulos de Python necesarios."
   ]
  },
  {
   "cell_type": "code",
   "execution_count": 33,
   "metadata": {},
   "outputs": [],
   "source": [
    "import itertools\n",
    "import pandas"
   ]
  },
  {
   "cell_type": "markdown",
   "metadata": {},
   "source": [
    "Estos dos módulos los necesitamos por lo siguiente:\n",
    "    \n",
    "* ``itertools``: lo necesitamos porque va a ser útil para generar las combinaciones \n",
    "    y ademas con su función ``compress`` podemos aplicar máscaras sobre listas.\n",
    "* ``pandas``: lo necesitamos para leer el fichero ``csv``, para generar el ``DataFrame``\n",
    "    y para extraer la información de este último."
   ]
  },
  {
   "cell_type": "markdown",
   "metadata": {},
   "source": [
    "Ahora definimos una función que nos devuelva todas las combinaciones de tuplas de tamaño \n",
    "``total_number_of_cows`` con $1$s y $0$. También podríamos haber contado en binario hasta \n",
    "$2^n$ donde $n$ es igual a ``total_number_of_cows``, pero algunos somos vagos:"
   ]
  },
  {
   "cell_type": "code",
   "execution_count": 34,
   "metadata": {},
   "outputs": [],
   "source": [
    "def generate_all_combinations(total_number_of_cows):\n",
    "    \"\"\"Esta función devuelve en forma de lista binaria todas las combinaciones\n",
    "    de vacas posibles\"\"\"\n",
    "    combinations = list(itertools.product([0, 1], repeat=total_number_of_cows))\n",
    "    return combinations"
   ]
  },
  {
   "cell_type": "markdown",
   "metadata": {},
   "source": [
    "Definimos una función que evalua el peso de la combinación y su producción y descarta aquellas que superen el peso máximo (que será de 600 kilos)"
   ]
  },
  {
   "cell_type": "code",
   "execution_count": 35,
   "metadata": {},
   "outputs": [],
   "source": [
    "def get_allowed_combinations(combinations, weights, production, max_weight):\n",
    "    \"\"\"Esta función devuelve aquellas combinaciones que cumplen con el criterio de peso\"\"\"\n",
    "    full_info_list=[]\n",
    "    for combination in combinations:\n",
    "        total_weight_per_combination = sum([bit * weights for bit, weights in zip(list(combination), weights)])\n",
    "        total_production_per_combination = sum([bit * production for bit, production in zip(list(combination), production)])\n",
    "        if total_weight_per_combination <= 600:\n",
    "            full_info_list.append([combination, total_weight_per_combination, total_production_per_combination])\n",
    "    return full_info_list"
   ]
  },
  {
   "cell_type": "markdown",
   "metadata": {},
   "source": [
    "Ahora vamos a cargar los datos del ``csv`` en un ``DataFrame`` con la función ``read_csv`` de ``pandas``:"
   ]
  },
  {
   "cell_type": "code",
   "execution_count": 36,
   "metadata": {},
   "outputs": [],
   "source": [
    "cow_df = pandas.read_csv('cows.csv')"
   ]
  },
  {
   "cell_type": "markdown",
   "metadata": {},
   "source": [
    "Vamos a ver que pinta tiene el ``DataFrame`` ``cow_df`` mirando las primeras 6 filas:"
   ]
  },
  {
   "cell_type": "code",
   "execution_count": 37,
   "metadata": {},
   "outputs": [
    {
     "data": {
      "text/html": [
       "<div>\n",
       "<style scoped>\n",
       "    .dataframe tbody tr th:only-of-type {\n",
       "        vertical-align: middle;\n",
       "    }\n",
       "\n",
       "    .dataframe tbody tr th {\n",
       "        vertical-align: top;\n",
       "    }\n",
       "\n",
       "    .dataframe thead th {\n",
       "        text-align: right;\n",
       "    }\n",
       "</style>\n",
       "<table border=\"1\" class=\"dataframe\">\n",
       "  <thead>\n",
       "    <tr style=\"text-align: right;\">\n",
       "      <th></th>\n",
       "      <th>Name</th>\n",
       "      <th>Weight</th>\n",
       "      <th>Production</th>\n",
       "    </tr>\n",
       "  </thead>\n",
       "  <tbody>\n",
       "    <tr>\n",
       "      <th>0</th>\n",
       "      <td>Jacinta</td>\n",
       "      <td>340</td>\n",
       "      <td>40</td>\n",
       "    </tr>\n",
       "    <tr>\n",
       "      <th>1</th>\n",
       "      <td>Bernarda</td>\n",
       "      <td>400</td>\n",
       "      <td>52</td>\n",
       "    </tr>\n",
       "    <tr>\n",
       "      <th>2</th>\n",
       "      <td>Margarita</td>\n",
       "      <td>300</td>\n",
       "      <td>33</td>\n",
       "    </tr>\n",
       "    <tr>\n",
       "      <th>3</th>\n",
       "      <td>Flora</td>\n",
       "      <td>250</td>\n",
       "      <td>32</td>\n",
       "    </tr>\n",
       "    <tr>\n",
       "      <th>4</th>\n",
       "      <td>Miguelita</td>\n",
       "      <td>320</td>\n",
       "      <td>60</td>\n",
       "    </tr>\n",
       "    <tr>\n",
       "      <th>5</th>\n",
       "      <td>Fulgencia</td>\n",
       "      <td>290</td>\n",
       "      <td>27</td>\n",
       "    </tr>\n",
       "  </tbody>\n",
       "</table>\n",
       "</div>"
      ],
      "text/plain": [
       "        Name  Weight  Production\n",
       "0    Jacinta     340          40\n",
       "1   Bernarda     400          52\n",
       "2  Margarita     300          33\n",
       "3      Flora     250          32\n",
       "4  Miguelita     320          60\n",
       "5  Fulgencia     290          27"
      ]
     },
     "execution_count": 37,
     "metadata": {},
     "output_type": "execute_result"
    }
   ],
   "source": [
    "cow_df.head(6)"
   ]
  },
  {
   "cell_type": "markdown",
   "metadata": {},
   "source": [
    "Extraemos datos de interés:"
   ]
  },
  {
   "cell_type": "code",
   "execution_count": 38,
   "metadata": {},
   "outputs": [],
   "source": [
    "# Número total de vacas (length del DataFrame menos 1, ya que pilla también la cabecera):\n",
    "total_number_of_cows = len(cow_df.index) - 1\n",
    "# El nombre de las vacas (primera columna con nombre \"Name\"). Lo convertimos a lista con .tolist()\n",
    "cows = cow_df.Name.tolist()\n",
    "# El peso de las vacas (segunda columna con nombre \"Weights\"). Lo convertimos a lista con .tolist()\n",
    "weights = cow_df.Weight.tolist()\n",
    "# La producción de las vacas (segunda columna con nombre \"Production\"). Lo convertimos a lista con .tolist()\n",
    "production = cow_df.Production.tolist()\n",
    "# Peso máximo permitido en el camión\n",
    "max_weight = 600"
   ]
  },
  {
   "cell_type": "markdown",
   "metadata": {},
   "source": [
    "Si hemos convertido las columnas a lista con ``tolist()`` es porque no apetece trabajar con tuplas.\n",
    "\n",
    "Veamos como son:"
   ]
  },
  {
   "cell_type": "code",
   "execution_count": 39,
   "metadata": {},
   "outputs": [
    {
     "name": "stdout",
     "output_type": "stream",
     "text": [
      "['Jacinta', 'Bernarda', 'Margarita', 'Flora', 'Miguelita', 'Fulgencia', 'Miranda'] [340, 400, 300, 250, 320, 290, 275] [40, 52, 33, 32, 60, 27, 43]\n"
     ]
    }
   ],
   "source": [
    "print(cows, weights, production)"
   ]
  },
  {
   "cell_type": "markdown",
   "metadata": {},
   "source": [
    "Generamos las combinaciones y las visualizamos (hago un print con el ``for`` para que me introduzca el salto\n",
    "de línea entre las combinaciones):"
   ]
  },
  {
   "cell_type": "code",
   "execution_count": 40,
   "metadata": {},
   "outputs": [
    {
     "name": "stdout",
     "output_type": "stream",
     "text": [
      "(0, 0, 0, 0, 0, 0)\n",
      "(0, 0, 0, 0, 0, 1)\n",
      "(0, 0, 0, 0, 1, 0)\n",
      "(0, 0, 0, 0, 1, 1)\n",
      "(0, 0, 0, 1, 0, 0)\n",
      "(0, 0, 0, 1, 0, 1)\n",
      "(0, 0, 0, 1, 1, 0)\n",
      "(0, 0, 0, 1, 1, 1)\n",
      "(0, 0, 1, 0, 0, 0)\n",
      "(0, 0, 1, 0, 0, 1)\n",
      "(0, 0, 1, 0, 1, 0)\n",
      "(0, 0, 1, 0, 1, 1)\n",
      "(0, 0, 1, 1, 0, 0)\n",
      "(0, 0, 1, 1, 0, 1)\n",
      "(0, 0, 1, 1, 1, 0)\n",
      "(0, 0, 1, 1, 1, 1)\n",
      "(0, 1, 0, 0, 0, 0)\n",
      "(0, 1, 0, 0, 0, 1)\n",
      "(0, 1, 0, 0, 1, 0)\n",
      "(0, 1, 0, 0, 1, 1)\n",
      "(0, 1, 0, 1, 0, 0)\n",
      "(0, 1, 0, 1, 0, 1)\n",
      "(0, 1, 0, 1, 1, 0)\n",
      "(0, 1, 0, 1, 1, 1)\n",
      "(0, 1, 1, 0, 0, 0)\n",
      "(0, 1, 1, 0, 0, 1)\n",
      "(0, 1, 1, 0, 1, 0)\n",
      "(0, 1, 1, 0, 1, 1)\n",
      "(0, 1, 1, 1, 0, 0)\n",
      "(0, 1, 1, 1, 0, 1)\n",
      "(0, 1, 1, 1, 1, 0)\n",
      "(0, 1, 1, 1, 1, 1)\n",
      "(1, 0, 0, 0, 0, 0)\n",
      "(1, 0, 0, 0, 0, 1)\n",
      "(1, 0, 0, 0, 1, 0)\n",
      "(1, 0, 0, 0, 1, 1)\n",
      "(1, 0, 0, 1, 0, 0)\n",
      "(1, 0, 0, 1, 0, 1)\n",
      "(1, 0, 0, 1, 1, 0)\n",
      "(1, 0, 0, 1, 1, 1)\n",
      "(1, 0, 1, 0, 0, 0)\n",
      "(1, 0, 1, 0, 0, 1)\n",
      "(1, 0, 1, 0, 1, 0)\n",
      "(1, 0, 1, 0, 1, 1)\n",
      "(1, 0, 1, 1, 0, 0)\n",
      "(1, 0, 1, 1, 0, 1)\n",
      "(1, 0, 1, 1, 1, 0)\n",
      "(1, 0, 1, 1, 1, 1)\n",
      "(1, 1, 0, 0, 0, 0)\n",
      "(1, 1, 0, 0, 0, 1)\n",
      "(1, 1, 0, 0, 1, 0)\n",
      "(1, 1, 0, 0, 1, 1)\n",
      "(1, 1, 0, 1, 0, 0)\n",
      "(1, 1, 0, 1, 0, 1)\n",
      "(1, 1, 0, 1, 1, 0)\n",
      "(1, 1, 0, 1, 1, 1)\n",
      "(1, 1, 1, 0, 0, 0)\n",
      "(1, 1, 1, 0, 0, 1)\n",
      "(1, 1, 1, 0, 1, 0)\n",
      "(1, 1, 1, 0, 1, 1)\n",
      "(1, 1, 1, 1, 0, 0)\n",
      "(1, 1, 1, 1, 0, 1)\n",
      "(1, 1, 1, 1, 1, 0)\n",
      "(1, 1, 1, 1, 1, 1)\n"
     ]
    }
   ],
   "source": [
    "combinations = generate_all_combinations(total_number_of_cows)\n",
    "for combination in combinations:\n",
    "    print(combination)"
   ]
  },
  {
   "cell_type": "markdown",
   "metadata": {},
   "source": [
    "Almacenamos las combinaciones permitidas en una lista que contiene los siguientes elementos por elemento:\n",
    "\n",
    "* Tupa con la combinación de vacas\n",
    "* El peso de la combinación\n",
    "* La producción de la combinación"
   ]
  },
  {
   "cell_type": "code",
   "execution_count": 41,
   "metadata": {},
   "outputs": [],
   "source": [
    "allowed_combinations = get_allowed_combinations(combinations, weights, production, max_weight)"
   ]
  },
  {
   "cell_type": "markdown",
   "metadata": {},
   "source": [
    "Veamos como luce un elemento de esa lista:"
   ]
  },
  {
   "cell_type": "code",
   "execution_count": 42,
   "metadata": {},
   "outputs": [
    {
     "name": "stdout",
     "output_type": "stream",
     "text": [
      "[(0, 0, 0, 0, 0, 1), 290, 27]\n"
     ]
    }
   ],
   "source": [
    "print(allowed_combinations[1])"
   ]
  },
  {
   "cell_type": "markdown",
   "metadata": {},
   "source": [
    "Que, traducido al lenguaje humano dice: \n",
    "\n",
    "*En esta combinación sólo cogemos a Mirada que pesa 290 kilos y produce 27 litros*."
   ]
  },
  {
   "cell_type": "markdown",
   "metadata": {},
   "source": [
    "Probemos otra combinación que involucre a más de una vaca:"
   ]
  },
  {
   "cell_type": "code",
   "execution_count": 43,
   "metadata": {},
   "outputs": [
    {
     "name": "stdout",
     "output_type": "stream",
     "text": [
      "[(1, 0, 0, 1, 0, 0), 590, 72]\n"
     ]
    }
   ],
   "source": [
    "print(allowed_combinations[11])"
   ]
  },
  {
   "cell_type": "markdown",
   "metadata": {},
   "source": [
    "Esta última combinación se lee como:\n",
    "\n",
    "*En esta combinación sólo cogemos a Jacinta y Flora con un peso total de 590 kilos y una producción de 72 litros.*"
   ]
  },
  {
   "cell_type": "markdown",
   "metadata": {},
   "source": [
    "Hallaremos ahora aquella combinación que maximize la producción. Como podemos observar lo que tenemos que hallar el elemento de ``allowed_combinations`` que maximize el tercer elemento. Lo podemos hacer así:"
   ]
  },
  {
   "cell_type": "code",
   "execution_count": 44,
   "metadata": {},
   "outputs": [],
   "source": [
    "max_combination = max(allowed_combinations, key = lambda x: int(x[2]))"
   ]
  },
  {
   "cell_type": "code",
   "execution_count": 45,
   "metadata": {},
   "outputs": [
    {
     "name": "stdout",
     "output_type": "stream",
     "text": [
      "[(0, 0, 0, 1, 1, 0), 570, 92]\n"
     ]
    }
   ],
   "source": [
    "print(max_combination)"
   ]
  },
  {
   "cell_type": "markdown",
   "metadata": {},
   "source": [
    "La funcion ``max()`` nos ayuda a sacar el máximo de la lista. La parte ``key = lambda x: int(x[2])`` la utilizamos para comunicar a la función máxima que haga la búsqueda del máximo en función del tercer elemento (recordadmos que Python empieza a contar desde 0, de ahí el ``[2]``."
   ]
  },
  {
   "cell_type": "markdown",
   "metadata": {},
   "source": [
    "Ahora hallar tanto el peso como la producción es sencillo:"
   ]
  },
  {
   "cell_type": "code",
   "execution_count": 46,
   "metadata": {},
   "outputs": [
    {
     "name": "stdout",
     "output_type": "stream",
     "text": [
      "Producción máxima: 92\n",
      "Peso de la combinación: 570\n"
     ]
    }
   ],
   "source": [
    "print(\"Producción máxima:\", max_combination[2])\n",
    "print(\"Peso de la combinación:\", max_combination[1])"
   ]
  },
  {
   "cell_type": "markdown",
   "metadata": {},
   "source": [
    "Si quisieramos *mappear* la combinación ``(0, 0, 0, 1, 1, 0)`` para obtener los nombres, podemos utilizar esa tupla (que convertiremos en lista para usar la función ``itertools.compress``) como *máscara* que podemos aplicar a la lista con los nombre de las vacas denominada ``cows``. Veamos como lucen:"
   ]
  },
  {
   "cell_type": "code",
   "execution_count": 47,
   "metadata": {},
   "outputs": [
    {
     "name": "stdout",
     "output_type": "stream",
     "text": [
      "Listado de vacas: ['Jacinta', 'Bernarda', 'Margarita', 'Flora', 'Miguelita', 'Fulgencia', 'Miranda']\n",
      "Máscara: [0, 0, 0, 1, 1, 0]\n"
     ]
    }
   ],
   "source": [
    "print(\"Listado de vacas:\", cows)\n",
    "\n",
    "\n",
    "mask = list(max_combination[0]) \n",
    "print(\"Máscara:\", mask)"
   ]
  },
  {
   "cell_type": "markdown",
   "metadata": {},
   "source": [
    "Aplicando la máscara ``[0, 0, 0, 1, 1, 0]`` sobre ``['Jacinta', 'Bernarda', 'Margarita', 'Flora', 'Miguelita', 'Fulgencia', 'Miranda']`` obtenemos aquellos elementos que coindidan con el $1$ en la posición:"
   ]
  },
  {
   "cell_type": "code",
   "execution_count": 48,
   "metadata": {},
   "outputs": [
    {
     "name": "stdout",
     "output_type": "stream",
     "text": [
      "Listado de vacas que deberíamos comprar: ['Flora', 'Miguelita']\n"
     ]
    }
   ],
   "source": [
    "print(\"Listado de vacas que deberíamos comprar:\", list(itertools.compress(cows, mask)))"
   ]
  },
  {
   "cell_type": "markdown",
   "metadata": {},
   "source": [
    "### Propuesta sin probar todas las combinaciones (tarea_22_smart_search.py)\n",
    "\n",
    "Desde el punto de vista de la eficiencia no tiene sentido probar todas las combinaciones. Podemos ordenar las vacas de la más pesada a la menos pesada e ir metiendo vacas mientras no sobrepasemos el peso máximo (600 kilos). Por ejemplo:\n",
    "\n",
    "weights = [202, 201, 200, 150, 203]\n",
    "\n",
    "* Metemos la primera vaca: [1,0,0,0,0]. Peso total: 202\n",
    "* Metemos la segunda vaca: [1,1,0,0,0]. Peso total: 403\n",
    "* Metemos la tercera vaca: [1,1,1,0,0]. Peso total: 603 (PESO SOBREPASADO)\n",
    "\n",
    "Llegados a este punto no tendría sentido considerar [1,1,1,1,0] o [1,1,1,1,1,], ¿Por qué calcularlas entonces?"
   ]
  },
  {
   "cell_type": "code",
   "execution_count": null,
   "metadata": {},
   "outputs": [],
   "source": []
  }
 ],
 "metadata": {
  "kernelspec": {
   "display_name": "Python 3",
   "language": "python",
   "name": "python3"
  },
  "language_info": {
   "codemirror_mode": {
    "name": "ipython",
    "version": 3
   },
   "file_extension": ".py",
   "mimetype": "text/x-python",
   "name": "python",
   "nbconvert_exporter": "python",
   "pygments_lexer": "ipython3",
   "version": "3.7.6"
  }
 },
 "nbformat": 4,
 "nbformat_minor": 4
}
